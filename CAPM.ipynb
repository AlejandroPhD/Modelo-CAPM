{
 "cells": [
  {
   "cell_type": "code",
   "execution_count": 1,
   "id": "93cae31c",
   "metadata": {},
   "outputs": [],
   "source": [
    "import pandas as pd\n",
    "import yfinance as yf\n",
    "import statsmodels.api as sm"
   ]
  },
  {
   "cell_type": "code",
   "execution_count": 2,
   "id": "3972545b",
   "metadata": {},
   "outputs": [],
   "source": [
    "RISKY_ASSET = 'AMZN'\n",
    "MARKET_BENCHMARK = '^GSPC'\n",
    "START_DATE = '2019-03-01'\n",
    "END_DATE = '2022-03-01'"
   ]
  },
  {
   "cell_type": "code",
   "execution_count": 3,
   "id": "f5769f92",
   "metadata": {},
   "outputs": [],
   "source": [
    "df = yf.download([RISKY_ASSET, MARKET_BENCHMARK],\n",
    "                 start=START_DATE,\n",
    "                 end=END_DATE,\n",
    "                 adjusted=True,\n",
    "                 progress=False)"
   ]
  },
  {
   "cell_type": "code",
   "execution_count": 4,
   "id": "0768530f",
   "metadata": {},
   "outputs": [
    {
     "data": {
      "text/html": [
       "<div>\n",
       "<style scoped>\n",
       "    .dataframe tbody tr th:only-of-type {\n",
       "        vertical-align: middle;\n",
       "    }\n",
       "\n",
       "    .dataframe tbody tr th {\n",
       "        vertical-align: top;\n",
       "    }\n",
       "\n",
       "    .dataframe thead tr th {\n",
       "        text-align: left;\n",
       "    }\n",
       "\n",
       "    .dataframe thead tr:last-of-type th {\n",
       "        text-align: right;\n",
       "    }\n",
       "</style>\n",
       "<table border=\"1\" class=\"dataframe\">\n",
       "  <thead>\n",
       "    <tr>\n",
       "      <th></th>\n",
       "      <th colspan=\"2\" halign=\"left\">Adj Close</th>\n",
       "      <th colspan=\"2\" halign=\"left\">Close</th>\n",
       "      <th colspan=\"2\" halign=\"left\">High</th>\n",
       "      <th colspan=\"2\" halign=\"left\">Low</th>\n",
       "      <th colspan=\"2\" halign=\"left\">Open</th>\n",
       "      <th colspan=\"2\" halign=\"left\">Volume</th>\n",
       "    </tr>\n",
       "    <tr>\n",
       "      <th></th>\n",
       "      <th>AMZN</th>\n",
       "      <th>^GSPC</th>\n",
       "      <th>AMZN</th>\n",
       "      <th>^GSPC</th>\n",
       "      <th>AMZN</th>\n",
       "      <th>^GSPC</th>\n",
       "      <th>AMZN</th>\n",
       "      <th>^GSPC</th>\n",
       "      <th>AMZN</th>\n",
       "      <th>^GSPC</th>\n",
       "      <th>AMZN</th>\n",
       "      <th>^GSPC</th>\n",
       "    </tr>\n",
       "    <tr>\n",
       "      <th>Date</th>\n",
       "      <th></th>\n",
       "      <th></th>\n",
       "      <th></th>\n",
       "      <th></th>\n",
       "      <th></th>\n",
       "      <th></th>\n",
       "      <th></th>\n",
       "      <th></th>\n",
       "      <th></th>\n",
       "      <th></th>\n",
       "      <th></th>\n",
       "      <th></th>\n",
       "    </tr>\n",
       "  </thead>\n",
       "  <tbody>\n",
       "    <tr>\n",
       "      <th>2019-03-01</th>\n",
       "      <td>1671.729980</td>\n",
       "      <td>2803.689941</td>\n",
       "      <td>1671.729980</td>\n",
       "      <td>2803.689941</td>\n",
       "      <td>1674.260010</td>\n",
       "      <td>2808.020020</td>\n",
       "      <td>1651.000000</td>\n",
       "      <td>2787.379883</td>\n",
       "      <td>1655.130005</td>\n",
       "      <td>2798.219971</td>\n",
       "      <td>4974900</td>\n",
       "      <td>3972280000</td>\n",
       "    </tr>\n",
       "    <tr>\n",
       "      <th>2019-03-04</th>\n",
       "      <td>1696.170044</td>\n",
       "      <td>2792.810059</td>\n",
       "      <td>1696.170044</td>\n",
       "      <td>2792.810059</td>\n",
       "      <td>1709.430054</td>\n",
       "      <td>2816.879883</td>\n",
       "      <td>1674.359985</td>\n",
       "      <td>2767.659912</td>\n",
       "      <td>1685.000000</td>\n",
       "      <td>2814.370117</td>\n",
       "      <td>6167400</td>\n",
       "      <td>3919810000</td>\n",
       "    </tr>\n",
       "    <tr>\n",
       "      <th>2019-03-05</th>\n",
       "      <td>1692.430054</td>\n",
       "      <td>2789.649902</td>\n",
       "      <td>1692.430054</td>\n",
       "      <td>2789.649902</td>\n",
       "      <td>1707.800049</td>\n",
       "      <td>2796.439941</td>\n",
       "      <td>1689.010010</td>\n",
       "      <td>2782.969971</td>\n",
       "      <td>1702.949951</td>\n",
       "      <td>2794.409912</td>\n",
       "      <td>3681500</td>\n",
       "      <td>3585690000</td>\n",
       "    </tr>\n",
       "    <tr>\n",
       "      <th>2019-03-06</th>\n",
       "      <td>1668.949951</td>\n",
       "      <td>2771.449951</td>\n",
       "      <td>1668.949951</td>\n",
       "      <td>2771.449951</td>\n",
       "      <td>1697.750000</td>\n",
       "      <td>2790.270020</td>\n",
       "      <td>1668.280029</td>\n",
       "      <td>2768.689941</td>\n",
       "      <td>1695.969971</td>\n",
       "      <td>2790.270020</td>\n",
       "      <td>3996000</td>\n",
       "      <td>3786600000</td>\n",
       "    </tr>\n",
       "    <tr>\n",
       "      <th>2019-03-07</th>\n",
       "      <td>1625.949951</td>\n",
       "      <td>2748.929932</td>\n",
       "      <td>1625.949951</td>\n",
       "      <td>2748.929932</td>\n",
       "      <td>1669.750000</td>\n",
       "      <td>2767.250000</td>\n",
       "      <td>1620.510010</td>\n",
       "      <td>2739.090088</td>\n",
       "      <td>1667.369995</td>\n",
       "      <td>2766.530029</td>\n",
       "      <td>4957000</td>\n",
       "      <td>3904860000</td>\n",
       "    </tr>\n",
       "  </tbody>\n",
       "</table>\n",
       "</div>"
      ],
      "text/plain": [
       "              Adj Close                     Close                      High  \\\n",
       "                   AMZN        ^GSPC         AMZN        ^GSPC         AMZN   \n",
       "Date                                                                          \n",
       "2019-03-01  1671.729980  2803.689941  1671.729980  2803.689941  1674.260010   \n",
       "2019-03-04  1696.170044  2792.810059  1696.170044  2792.810059  1709.430054   \n",
       "2019-03-05  1692.430054  2789.649902  1692.430054  2789.649902  1707.800049   \n",
       "2019-03-06  1668.949951  2771.449951  1668.949951  2771.449951  1697.750000   \n",
       "2019-03-07  1625.949951  2748.929932  1625.949951  2748.929932  1669.750000   \n",
       "\n",
       "                                 Low                      Open               \\\n",
       "                  ^GSPC         AMZN        ^GSPC         AMZN        ^GSPC   \n",
       "Date                                                                          \n",
       "2019-03-01  2808.020020  1651.000000  2787.379883  1655.130005  2798.219971   \n",
       "2019-03-04  2816.879883  1674.359985  2767.659912  1685.000000  2814.370117   \n",
       "2019-03-05  2796.439941  1689.010010  2782.969971  1702.949951  2794.409912   \n",
       "2019-03-06  2790.270020  1668.280029  2768.689941  1695.969971  2790.270020   \n",
       "2019-03-07  2767.250000  1620.510010  2739.090088  1667.369995  2766.530029   \n",
       "\n",
       "             Volume              \n",
       "               AMZN       ^GSPC  \n",
       "Date                             \n",
       "2019-03-01  4974900  3972280000  \n",
       "2019-03-04  6167400  3919810000  \n",
       "2019-03-05  3681500  3585690000  \n",
       "2019-03-06  3996000  3786600000  \n",
       "2019-03-07  4957000  3904860000  "
      ]
     },
     "execution_count": 4,
     "metadata": {},
     "output_type": "execute_result"
    }
   ],
   "source": [
    "df.head()"
   ]
  },
  {
   "cell_type": "code",
   "execution_count": 5,
   "id": "6c97dcca",
   "metadata": {},
   "outputs": [],
   "source": [
    "X= df['Adj Close'].rename(columns={RISKY_ASSET: 'asset',\n",
    "                                  MARKET_BENCHMARK: 'market'}) \\\n",
    ".resample('M') \\\n",
    ".last() \\\n",
    ".pct_change() \\\n",
    ".dropna()"
   ]
  },
  {
   "cell_type": "code",
   "execution_count": 6,
   "id": "5d905c18",
   "metadata": {},
   "outputs": [
    {
     "data": {
      "text/html": [
       "<div>\n",
       "<style scoped>\n",
       "    .dataframe tbody tr th:only-of-type {\n",
       "        vertical-align: middle;\n",
       "    }\n",
       "\n",
       "    .dataframe tbody tr th {\n",
       "        vertical-align: top;\n",
       "    }\n",
       "\n",
       "    .dataframe thead th {\n",
       "        text-align: right;\n",
       "    }\n",
       "</style>\n",
       "<table border=\"1\" class=\"dataframe\">\n",
       "  <thead>\n",
       "    <tr style=\"text-align: right;\">\n",
       "      <th></th>\n",
       "      <th>asset</th>\n",
       "      <th>market</th>\n",
       "    </tr>\n",
       "    <tr>\n",
       "      <th>Date</th>\n",
       "      <th></th>\n",
       "      <th></th>\n",
       "    </tr>\n",
       "  </thead>\n",
       "  <tbody>\n",
       "    <tr>\n",
       "      <th>2019-04-30</th>\n",
       "      <td>0.081859</td>\n",
       "      <td>0.039313</td>\n",
       "    </tr>\n",
       "    <tr>\n",
       "      <th>2019-05-31</th>\n",
       "      <td>-0.078613</td>\n",
       "      <td>-0.065778</td>\n",
       "    </tr>\n",
       "    <tr>\n",
       "      <th>2019-06-30</th>\n",
       "      <td>0.066792</td>\n",
       "      <td>0.068930</td>\n",
       "    </tr>\n",
       "    <tr>\n",
       "      <th>2019-07-31</th>\n",
       "      <td>-0.014179</td>\n",
       "      <td>0.013128</td>\n",
       "    </tr>\n",
       "    <tr>\n",
       "      <th>2019-08-31</th>\n",
       "      <td>-0.048474</td>\n",
       "      <td>-0.018092</td>\n",
       "    </tr>\n",
       "  </tbody>\n",
       "</table>\n",
       "</div>"
      ],
      "text/plain": [
       "               asset    market\n",
       "Date                          \n",
       "2019-04-30  0.081859  0.039313\n",
       "2019-05-31 -0.078613 -0.065778\n",
       "2019-06-30  0.066792  0.068930\n",
       "2019-07-31 -0.014179  0.013128\n",
       "2019-08-31 -0.048474 -0.018092"
      ]
     },
     "execution_count": 6,
     "metadata": {},
     "output_type": "execute_result"
    }
   ],
   "source": [
    "X.head()"
   ]
  },
  {
   "cell_type": "code",
   "execution_count": 7,
   "id": "d4a2bae9",
   "metadata": {},
   "outputs": [],
   "source": [
    "import matplotlib.pyplot as plt"
   ]
  },
  {
   "cell_type": "code",
   "execution_count": 8,
   "id": "467d2a38",
   "metadata": {},
   "outputs": [
    {
     "data": {
      "image/png": "[encoded data removed]",
      "text/plain": [
       "<Figure size 864x576 with 1 Axes>"
      ]
     },
     "metadata": {
      "needs_background": "light"
     },
     "output_type": "display_data"
    }
   ],
   "source": [
    "plt.figure(figsize=(12,8))\n",
    "plt.plot(X.index,X.asset,'b',X.index,X.market,'r')\n",
    "plt.show()"
   ]
  },
  {
   "cell_type": "code",
   "execution_count": 9,
   "id": "407679c0",
   "metadata": {},
   "outputs": [],
   "source": [
    "import pandas_datareader as wb\n",
    "from matplotlib.dates import MonthLocator, DateFormatter"
   ]
  },
  {
   "cell_type": "code",
   "execution_count": 10,
   "id": "c48e13f2",
   "metadata": {},
   "outputs": [],
   "source": [
    "from mlxtend.plotting import scatterplotmatrix"
   ]
  },
  {
   "cell_type": "code",
   "execution_count": 11,
   "id": "1a0174fe",
   "metadata": {},
   "outputs": [
    {
     "data": {
      "image/png": "[encoded data removed]",
      "text/plain": [
       "<Figure size 720x576 with 4 Axes>"
      ]
     },
     "metadata": {
      "needs_background": "light"
     },
     "output_type": "display_data"
    }
   ],
   "source": [
    "cols = [\"asset\", \"market\",]\n",
    "scatterplotmatrix(X[cols].values, figsize=(10,8),\n",
    "                 names = cols, alpha = 0.7)\n",
    "plt.tight_layout()\n",
    "plt.show()"
   ]
  },
  {
   "cell_type": "code",
   "execution_count": 12,
   "id": "bc92a130",
   "metadata": {},
   "outputs": [],
   "source": [
    "covariance = X.cov().iloc[0,1]\n",
    "benchmark_variance = X.market.var()\n",
    "beta = covariance / benchmark_variance"
   ]
  },
  {
   "cell_type": "code",
   "execution_count": 13,
   "id": "42094549",
   "metadata": {},
   "outputs": [
    {
     "name": "stdout",
     "output_type": "stream",
     "text": [
      "0.8845037253100757\n"
     ]
    }
   ],
   "source": [
    "print(beta)"
   ]
  },
  {
   "cell_type": "code",
   "execution_count": 14,
   "id": "087e6205",
   "metadata": {},
   "outputs": [
    {
     "name": "stdout",
     "output_type": "stream",
     "text": [
      "                            OLS Regression Results                            \n",
      "==============================================================================\n",
      "Dep. Variable:                  asset   R-squared:                       0.357\n",
      "Model:                            OLS   Adj. R-squared:                  0.337\n",
      "Method:                 Least Squares   F-statistic:                     18.31\n",
      "Date:                Thu, 03 Mar 2022   Prob (F-statistic):           0.000151\n",
      "Time:                        18:44:56   Log-Likelihood:                 48.384\n",
      "No. Observations:                  35   AIC:                            -92.77\n",
      "Df Residuals:                      33   BIC:                            -89.66\n",
      "Df Model:                           1                                         \n",
      "Covariance Type:            nonrobust                                         \n",
      "==============================================================================\n",
      "                 coef    std err          t      P>|t|      [0.025      0.975]\n",
      "------------------------------------------------------------------------------\n",
      "const          0.0062      0.011      0.567      0.575      -0.016       0.028\n",
      "market         0.8845      0.207      4.279      0.000       0.464       1.305\n",
      "==============================================================================\n",
      "Omnibus:                        4.383   Durbin-Watson:                   1.836\n",
      "Prob(Omnibus):                  0.112   Jarque-Bera (JB):                3.740\n",
      "Skew:                           0.800   Prob(JB):                        0.154\n",
      "Kurtosis:                       2.929   Cond. No.                         19.6\n",
      "==============================================================================\n",
      "\n",
      "Notes:\n",
      "[1] Standard Errors assume that the covariance matrix of the errors is correctly specified.\n"
     ]
    },
    {
     "name": "stderr",
     "output_type": "stream",
     "text": [
      "C:\\Users\\ALEJANDRO VARGAS\\AnacondaPy\\lib\\site-packages\\statsmodels\\tsa\\tsatools.py:142: FutureWarning: In a future version of pandas all arguments of concat except for the argument 'objs' will be keyword-only\n",
      "  x = pd.concat(x[::order], 1)\n"
     ]
    }
   ],
   "source": [
    "y = X.pop('asset')\n",
    "X = sm.add_constant(X)\n",
    "capm_model = sm.OLS(y, X).fit()\n",
    "print(capm_model.summary())"
   ]
  },
  {
   "cell_type": "code",
   "execution_count": null,
   "id": "b21045f0",
   "metadata": {},
   "outputs": [],
   "source": []
  }
 ],
 "metadata": {
  "kernelspec": {
   "display_name": "Python 3 (ipykernel)",
   "language": "python",
   "name": "python3"
  },
  "language_info": {
   "codemirror_mode": {
    "name": "ipython",
    "version": 3
   },
   "file_extension": ".py",
   "mimetype": "text/x-python",
   "name": "python",
   "nbconvert_exporter": "python",
   "pygments_lexer": "ipython3",
   "version": "3.9.7"
  }
 },
 "nbformat": 4,
 "nbformat_minor": 5
}
